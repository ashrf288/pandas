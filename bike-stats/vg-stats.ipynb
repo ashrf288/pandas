{
 "cells": [
  {
   "cell_type": "code",
   "execution_count": 2,
   "metadata": {},
   "outputs": [
    {
     "name": "stderr",
     "output_type": "stream",
     "text": [
      "/home/ashrf288/401/pandas/bike-stats/.venv/lib/python3.9/site-packages/IPython/core/interactiveshell.py:3444: FutureWarning: The error_bad_lines argument has been deprecated and will be removed in a future version.\n",
      "\n",
      "\n",
      "  exec(code_obj, self.user_global_ns, self.user_ns)\n",
      "b'Skipping line 50794: expected 12 fields, saw 20\\n'\n"
     ]
    },
    {
     "data": {
      "text/html": [
       "<div>\n",
       "<style scoped>\n",
       "    .dataframe tbody tr th:only-of-type {\n",
       "        vertical-align: middle;\n",
       "    }\n",
       "\n",
       "    .dataframe tbody tr th {\n",
       "        vertical-align: top;\n",
       "    }\n",
       "\n",
       "    .dataframe thead th {\n",
       "        text-align: right;\n",
       "    }\n",
       "</style>\n",
       "<table border=\"1\" class=\"dataframe\">\n",
       "  <thead>\n",
       "    <tr style=\"text-align: right;\">\n",
       "      <th></th>\n",
       "      <th>station_id</th>\n",
       "      <th>name</th>\n",
       "      <th>lat</th>\n",
       "      <th>long</th>\n",
       "      <th>install_date</th>\n",
       "      <th>install_dockcount</th>\n",
       "      <th>modification_date</th>\n",
       "      <th>current_dockcount</th>\n",
       "      <th>decommission_date</th>\n",
       "    </tr>\n",
       "  </thead>\n",
       "  <tbody>\n",
       "    <tr>\n",
       "      <th>0</th>\n",
       "      <td>BT-01</td>\n",
       "      <td>3rd Ave &amp; Broad St</td>\n",
       "      <td>47.618418</td>\n",
       "      <td>-122.350964</td>\n",
       "      <td>10/13/2014</td>\n",
       "      <td>18</td>\n",
       "      <td>NaN</td>\n",
       "      <td>18</td>\n",
       "      <td>NaN</td>\n",
       "    </tr>\n",
       "    <tr>\n",
       "      <th>1</th>\n",
       "      <td>BT-03</td>\n",
       "      <td>2nd Ave &amp; Vine St</td>\n",
       "      <td>47.615829</td>\n",
       "      <td>-122.348564</td>\n",
       "      <td>10/13/2014</td>\n",
       "      <td>16</td>\n",
       "      <td>NaN</td>\n",
       "      <td>16</td>\n",
       "      <td>NaN</td>\n",
       "    </tr>\n",
       "    <tr>\n",
       "      <th>2</th>\n",
       "      <td>BT-04</td>\n",
       "      <td>6th Ave &amp; Blanchard St</td>\n",
       "      <td>47.616094</td>\n",
       "      <td>-122.341102</td>\n",
       "      <td>10/13/2014</td>\n",
       "      <td>16</td>\n",
       "      <td>NaN</td>\n",
       "      <td>16</td>\n",
       "      <td>NaN</td>\n",
       "    </tr>\n",
       "    <tr>\n",
       "      <th>3</th>\n",
       "      <td>BT-05</td>\n",
       "      <td>2nd Ave &amp; Blanchard St</td>\n",
       "      <td>47.613110</td>\n",
       "      <td>-122.344208</td>\n",
       "      <td>10/13/2014</td>\n",
       "      <td>14</td>\n",
       "      <td>NaN</td>\n",
       "      <td>14</td>\n",
       "      <td>NaN</td>\n",
       "    </tr>\n",
       "    <tr>\n",
       "      <th>4</th>\n",
       "      <td>CBD-03</td>\n",
       "      <td>7th Ave &amp; Union St</td>\n",
       "      <td>47.610731</td>\n",
       "      <td>-122.332447</td>\n",
       "      <td>10/13/2014</td>\n",
       "      <td>20</td>\n",
       "      <td>NaN</td>\n",
       "      <td>20</td>\n",
       "      <td>NaN</td>\n",
       "    </tr>\n",
       "    <tr>\n",
       "      <th>5</th>\n",
       "      <td>CBD-04</td>\n",
       "      <td>Union St &amp; 4th Ave</td>\n",
       "      <td>47.609221</td>\n",
       "      <td>-122.335596</td>\n",
       "      <td>7/27/2015</td>\n",
       "      <td>18</td>\n",
       "      <td>NaN</td>\n",
       "      <td>18</td>\n",
       "      <td>NaN</td>\n",
       "    </tr>\n",
       "    <tr>\n",
       "      <th>6</th>\n",
       "      <td>CBD-05</td>\n",
       "      <td>1st Ave &amp; Marion St</td>\n",
       "      <td>47.604058</td>\n",
       "      <td>-122.335800</td>\n",
       "      <td>10/13/2014</td>\n",
       "      <td>20</td>\n",
       "      <td>NaN</td>\n",
       "      <td>20</td>\n",
       "      <td>NaN</td>\n",
       "    </tr>\n",
       "    <tr>\n",
       "      <th>7</th>\n",
       "      <td>CBD-06</td>\n",
       "      <td>2nd Ave &amp; Spring St</td>\n",
       "      <td>47.605950</td>\n",
       "      <td>-122.335768</td>\n",
       "      <td>10/13/2014</td>\n",
       "      <td>20</td>\n",
       "      <td>11/9/2015</td>\n",
       "      <td>18</td>\n",
       "      <td>NaN</td>\n",
       "    </tr>\n",
       "    <tr>\n",
       "      <th>8</th>\n",
       "      <td>CBD-07</td>\n",
       "      <td>City Hall / 4th Ave &amp; James St</td>\n",
       "      <td>47.603509</td>\n",
       "      <td>-122.330409</td>\n",
       "      <td>10/13/2014</td>\n",
       "      <td>20</td>\n",
       "      <td>NaN</td>\n",
       "      <td>20</td>\n",
       "      <td>NaN</td>\n",
       "    </tr>\n",
       "    <tr>\n",
       "      <th>9</th>\n",
       "      <td>CBD-13</td>\n",
       "      <td>2nd Ave &amp; Pine St</td>\n",
       "      <td>47.610185</td>\n",
       "      <td>-122.339641</td>\n",
       "      <td>10/13/2014</td>\n",
       "      <td>18</td>\n",
       "      <td>NaN</td>\n",
       "      <td>18</td>\n",
       "      <td>NaN</td>\n",
       "    </tr>\n",
       "  </tbody>\n",
       "</table>\n",
       "</div>"
      ],
      "text/plain": [
       "  station_id                            name        lat        long  \\\n",
       "0      BT-01              3rd Ave & Broad St  47.618418 -122.350964   \n",
       "1      BT-03               2nd Ave & Vine St  47.615829 -122.348564   \n",
       "2      BT-04          6th Ave & Blanchard St  47.616094 -122.341102   \n",
       "3      BT-05          2nd Ave & Blanchard St  47.613110 -122.344208   \n",
       "4     CBD-03              7th Ave & Union St  47.610731 -122.332447   \n",
       "5     CBD-04              Union St & 4th Ave  47.609221 -122.335596   \n",
       "6     CBD-05             1st Ave & Marion St  47.604058 -122.335800   \n",
       "7     CBD-06             2nd Ave & Spring St  47.605950 -122.335768   \n",
       "8     CBD-07  City Hall / 4th Ave & James St  47.603509 -122.330409   \n",
       "9     CBD-13               2nd Ave & Pine St  47.610185 -122.339641   \n",
       "\n",
       "  install_date  install_dockcount modification_date  current_dockcount  \\\n",
       "0   10/13/2014                 18               NaN                 18   \n",
       "1   10/13/2014                 16               NaN                 16   \n",
       "2   10/13/2014                 16               NaN                 16   \n",
       "3   10/13/2014                 14               NaN                 14   \n",
       "4   10/13/2014                 20               NaN                 20   \n",
       "5    7/27/2015                 18               NaN                 18   \n",
       "6   10/13/2014                 20               NaN                 20   \n",
       "7   10/13/2014                 20         11/9/2015                 18   \n",
       "8   10/13/2014                 20               NaN                 20   \n",
       "9   10/13/2014                 18               NaN                 18   \n",
       "\n",
       "  decommission_date  \n",
       "0               NaN  \n",
       "1               NaN  \n",
       "2               NaN  \n",
       "3               NaN  \n",
       "4               NaN  \n",
       "5               NaN  \n",
       "6               NaN  \n",
       "7               NaN  \n",
       "8               NaN  \n",
       "9               NaN  "
      ]
     },
     "execution_count": 2,
     "metadata": {},
     "output_type": "execute_result"
    }
   ],
   "source": [
    "import pandas as pd\n",
    "\n",
    "station = pd.read_csv('station.csv')\n",
    "trip = pd.read_csv('trip.csv',error_bad_lines = False)\n",
    "weather = pd.read_csv('weather.csv')\n",
    "\n",
    "station.head(10)"
   ]
  },
  {
   "cell_type": "markdown",
   "metadata": {},
   "source": [
    "## What is the average trip duration for a borrowed bicycle?"
   ]
  },
  {
   "cell_type": "code",
   "execution_count": 3,
   "metadata": {},
   "outputs": [
    {
     "data": {
      "text/plain": [
       "1178.2956753399776"
      ]
     },
     "execution_count": 3,
     "metadata": {},
     "output_type": "execute_result"
    }
   ],
   "source": [
    "averge_duration=trip['tripduration'].mean()\n",
    "averge_duration"
   ]
  },
  {
   "cell_type": "markdown",
   "metadata": {},
   "source": [
    "## What’s the most common age of a bicycle-sharer?"
   ]
  },
  {
   "cell_type": "code",
   "execution_count": 11,
   "metadata": {},
   "outputs": [
    {
     "data": {
      "text/plain": [
       "33"
      ]
     },
     "execution_count": 11,
     "metadata": {},
     "output_type": "execute_result"
    }
   ],
   "source": [
    "most_common_years =trip['birthyear'].value_counts().idxmax()\n",
    "most_common_age = 2020-most_common_years\n",
    "common_age=int(most_common_age)\n",
    "common_age"
   ]
  },
  {
   "cell_type": "code",
   "execution_count": 13,
   "metadata": {},
   "outputs": [
    {
     "data": {
      "text/html": [
       "<div>\n",
       "<style scoped>\n",
       "    .dataframe tbody tr th:only-of-type {\n",
       "        vertical-align: middle;\n",
       "    }\n",
       "\n",
       "    .dataframe tbody tr th {\n",
       "        vertical-align: top;\n",
       "    }\n",
       "\n",
       "    .dataframe thead th {\n",
       "        text-align: right;\n",
       "    }\n",
       "</style>\n",
       "<table border=\"1\" class=\"dataframe\">\n",
       "  <thead>\n",
       "    <tr style=\"text-align: right;\">\n",
       "      <th></th>\n",
       "      <th>Date</th>\n",
       "      <th>Max_Temperature_F</th>\n",
       "      <th>Mean_Temperature_F</th>\n",
       "      <th>Min_TemperatureF</th>\n",
       "      <th>Max_Dew_Point_F</th>\n",
       "      <th>MeanDew_Point_F</th>\n",
       "      <th>Min_Dewpoint_F</th>\n",
       "      <th>Max_Humidity</th>\n",
       "      <th>Mean_Humidity</th>\n",
       "      <th>Min_Humidity</th>\n",
       "      <th>...</th>\n",
       "      <th>Mean_Sea_Level_Pressure_In</th>\n",
       "      <th>Min_Sea_Level_Pressure_In</th>\n",
       "      <th>Max_Visibility_Miles</th>\n",
       "      <th>Mean_Visibility_Miles</th>\n",
       "      <th>Min_Visibility_Miles</th>\n",
       "      <th>Max_Wind_Speed_MPH</th>\n",
       "      <th>Mean_Wind_Speed_MPH</th>\n",
       "      <th>Max_Gust_Speed_MPH</th>\n",
       "      <th>Precipitation_In</th>\n",
       "      <th>Events</th>\n",
       "    </tr>\n",
       "  </thead>\n",
       "  <tbody>\n",
       "    <tr>\n",
       "      <th>0</th>\n",
       "      <td>10/13/2014</td>\n",
       "      <td>71</td>\n",
       "      <td>62.0</td>\n",
       "      <td>54</td>\n",
       "      <td>55</td>\n",
       "      <td>51</td>\n",
       "      <td>46</td>\n",
       "      <td>87</td>\n",
       "      <td>68</td>\n",
       "      <td>46</td>\n",
       "      <td>...</td>\n",
       "      <td>29.79</td>\n",
       "      <td>29.65</td>\n",
       "      <td>10</td>\n",
       "      <td>10</td>\n",
       "      <td>4</td>\n",
       "      <td>13</td>\n",
       "      <td>4</td>\n",
       "      <td>21</td>\n",
       "      <td>0.00</td>\n",
       "      <td>Rain</td>\n",
       "    </tr>\n",
       "    <tr>\n",
       "      <th>1</th>\n",
       "      <td>10/14/2014</td>\n",
       "      <td>63</td>\n",
       "      <td>59.0</td>\n",
       "      <td>55</td>\n",
       "      <td>52</td>\n",
       "      <td>51</td>\n",
       "      <td>50</td>\n",
       "      <td>88</td>\n",
       "      <td>78</td>\n",
       "      <td>63</td>\n",
       "      <td>...</td>\n",
       "      <td>29.75</td>\n",
       "      <td>29.54</td>\n",
       "      <td>10</td>\n",
       "      <td>9</td>\n",
       "      <td>3</td>\n",
       "      <td>10</td>\n",
       "      <td>5</td>\n",
       "      <td>17</td>\n",
       "      <td>0.11</td>\n",
       "      <td>Rain</td>\n",
       "    </tr>\n",
       "    <tr>\n",
       "      <th>2</th>\n",
       "      <td>10/15/2014</td>\n",
       "      <td>62</td>\n",
       "      <td>58.0</td>\n",
       "      <td>54</td>\n",
       "      <td>53</td>\n",
       "      <td>50</td>\n",
       "      <td>46</td>\n",
       "      <td>87</td>\n",
       "      <td>77</td>\n",
       "      <td>67</td>\n",
       "      <td>...</td>\n",
       "      <td>29.71</td>\n",
       "      <td>29.51</td>\n",
       "      <td>10</td>\n",
       "      <td>9</td>\n",
       "      <td>3</td>\n",
       "      <td>18</td>\n",
       "      <td>7</td>\n",
       "      <td>25</td>\n",
       "      <td>0.45</td>\n",
       "      <td>Rain</td>\n",
       "    </tr>\n",
       "    <tr>\n",
       "      <th>3</th>\n",
       "      <td>10/16/2014</td>\n",
       "      <td>71</td>\n",
       "      <td>61.0</td>\n",
       "      <td>52</td>\n",
       "      <td>49</td>\n",
       "      <td>46</td>\n",
       "      <td>42</td>\n",
       "      <td>83</td>\n",
       "      <td>61</td>\n",
       "      <td>36</td>\n",
       "      <td>...</td>\n",
       "      <td>29.95</td>\n",
       "      <td>29.81</td>\n",
       "      <td>10</td>\n",
       "      <td>10</td>\n",
       "      <td>10</td>\n",
       "      <td>9</td>\n",
       "      <td>4</td>\n",
       "      <td>-</td>\n",
       "      <td>0.00</td>\n",
       "      <td>Rain</td>\n",
       "    </tr>\n",
       "    <tr>\n",
       "      <th>4</th>\n",
       "      <td>10/17/2014</td>\n",
       "      <td>64</td>\n",
       "      <td>60.0</td>\n",
       "      <td>57</td>\n",
       "      <td>55</td>\n",
       "      <td>51</td>\n",
       "      <td>41</td>\n",
       "      <td>87</td>\n",
       "      <td>72</td>\n",
       "      <td>46</td>\n",
       "      <td>...</td>\n",
       "      <td>29.78</td>\n",
       "      <td>29.73</td>\n",
       "      <td>10</td>\n",
       "      <td>10</td>\n",
       "      <td>6</td>\n",
       "      <td>8</td>\n",
       "      <td>3</td>\n",
       "      <td>-</td>\n",
       "      <td>0.14</td>\n",
       "      <td>Rain</td>\n",
       "    </tr>\n",
       "    <tr>\n",
       "      <th>...</th>\n",
       "      <td>...</td>\n",
       "      <td>...</td>\n",
       "      <td>...</td>\n",
       "      <td>...</td>\n",
       "      <td>...</td>\n",
       "      <td>...</td>\n",
       "      <td>...</td>\n",
       "      <td>...</td>\n",
       "      <td>...</td>\n",
       "      <td>...</td>\n",
       "      <td>...</td>\n",
       "      <td>...</td>\n",
       "      <td>...</td>\n",
       "      <td>...</td>\n",
       "      <td>...</td>\n",
       "      <td>...</td>\n",
       "      <td>...</td>\n",
       "      <td>...</td>\n",
       "      <td>...</td>\n",
       "      <td>...</td>\n",
       "      <td>...</td>\n",
       "    </tr>\n",
       "    <tr>\n",
       "      <th>684</th>\n",
       "      <td>8/27/2016</td>\n",
       "      <td>72</td>\n",
       "      <td>66.0</td>\n",
       "      <td>61</td>\n",
       "      <td>57</td>\n",
       "      <td>54</td>\n",
       "      <td>50</td>\n",
       "      <td>81</td>\n",
       "      <td>65</td>\n",
       "      <td>46</td>\n",
       "      <td>...</td>\n",
       "      <td>29.88</td>\n",
       "      <td>29.77</td>\n",
       "      <td>10</td>\n",
       "      <td>10</td>\n",
       "      <td>10</td>\n",
       "      <td>16</td>\n",
       "      <td>9</td>\n",
       "      <td>NaN</td>\n",
       "      <td>0.00</td>\n",
       "      <td>NaN</td>\n",
       "    </tr>\n",
       "    <tr>\n",
       "      <th>685</th>\n",
       "      <td>8/28/2016</td>\n",
       "      <td>75</td>\n",
       "      <td>68.0</td>\n",
       "      <td>59</td>\n",
       "      <td>54</td>\n",
       "      <td>52</td>\n",
       "      <td>50</td>\n",
       "      <td>80</td>\n",
       "      <td>65</td>\n",
       "      <td>44</td>\n",
       "      <td>...</td>\n",
       "      <td>30.06</td>\n",
       "      <td>30.01</td>\n",
       "      <td>10</td>\n",
       "      <td>10</td>\n",
       "      <td>10</td>\n",
       "      <td>12</td>\n",
       "      <td>9</td>\n",
       "      <td>NaN</td>\n",
       "      <td>0.00</td>\n",
       "      <td>NaN</td>\n",
       "    </tr>\n",
       "    <tr>\n",
       "      <th>686</th>\n",
       "      <td>8/29/2016</td>\n",
       "      <td>81</td>\n",
       "      <td>68.0</td>\n",
       "      <td>55</td>\n",
       "      <td>55</td>\n",
       "      <td>53</td>\n",
       "      <td>50</td>\n",
       "      <td>89</td>\n",
       "      <td>65</td>\n",
       "      <td>39</td>\n",
       "      <td>...</td>\n",
       "      <td>30.02</td>\n",
       "      <td>29.95</td>\n",
       "      <td>10</td>\n",
       "      <td>10</td>\n",
       "      <td>6</td>\n",
       "      <td>9</td>\n",
       "      <td>4</td>\n",
       "      <td>NaN</td>\n",
       "      <td>0.00</td>\n",
       "      <td>NaN</td>\n",
       "    </tr>\n",
       "    <tr>\n",
       "      <th>687</th>\n",
       "      <td>8/30/2016</td>\n",
       "      <td>70</td>\n",
       "      <td>64.0</td>\n",
       "      <td>57</td>\n",
       "      <td>55</td>\n",
       "      <td>53</td>\n",
       "      <td>52</td>\n",
       "      <td>83</td>\n",
       "      <td>69</td>\n",
       "      <td>53</td>\n",
       "      <td>...</td>\n",
       "      <td>30.01</td>\n",
       "      <td>29.97</td>\n",
       "      <td>10</td>\n",
       "      <td>10</td>\n",
       "      <td>10</td>\n",
       "      <td>14</td>\n",
       "      <td>9</td>\n",
       "      <td>18</td>\n",
       "      <td>0.00</td>\n",
       "      <td>NaN</td>\n",
       "    </tr>\n",
       "    <tr>\n",
       "      <th>688</th>\n",
       "      <td>8/31/2016</td>\n",
       "      <td>71</td>\n",
       "      <td>65.0</td>\n",
       "      <td>59</td>\n",
       "      <td>61</td>\n",
       "      <td>56</td>\n",
       "      <td>52</td>\n",
       "      <td>90</td>\n",
       "      <td>77</td>\n",
       "      <td>63</td>\n",
       "      <td>...</td>\n",
       "      <td>29.97</td>\n",
       "      <td>29.96</td>\n",
       "      <td>10</td>\n",
       "      <td>10</td>\n",
       "      <td>8</td>\n",
       "      <td>14</td>\n",
       "      <td>8</td>\n",
       "      <td>NaN</td>\n",
       "      <td>0.00</td>\n",
       "      <td>Rain</td>\n",
       "    </tr>\n",
       "  </tbody>\n",
       "</table>\n",
       "<p>689 rows × 21 columns</p>\n",
       "</div>"
      ],
      "text/plain": [
       "           Date  Max_Temperature_F  Mean_Temperature_F  Min_TemperatureF  \\\n",
       "0    10/13/2014                 71                62.0                54   \n",
       "1    10/14/2014                 63                59.0                55   \n",
       "2    10/15/2014                 62                58.0                54   \n",
       "3    10/16/2014                 71                61.0                52   \n",
       "4    10/17/2014                 64                60.0                57   \n",
       "..          ...                ...                 ...               ...   \n",
       "684   8/27/2016                 72                66.0                61   \n",
       "685   8/28/2016                 75                68.0                59   \n",
       "686   8/29/2016                 81                68.0                55   \n",
       "687   8/30/2016                 70                64.0                57   \n",
       "688   8/31/2016                 71                65.0                59   \n",
       "\n",
       "     Max_Dew_Point_F  MeanDew_Point_F  Min_Dewpoint_F  Max_Humidity  \\\n",
       "0                 55               51              46            87   \n",
       "1                 52               51              50            88   \n",
       "2                 53               50              46            87   \n",
       "3                 49               46              42            83   \n",
       "4                 55               51              41            87   \n",
       "..               ...              ...             ...           ...   \n",
       "684               57               54              50            81   \n",
       "685               54               52              50            80   \n",
       "686               55               53              50            89   \n",
       "687               55               53              52            83   \n",
       "688               61               56              52            90   \n",
       "\n",
       "     Mean_Humidity  Min_Humidity  ...  Mean_Sea_Level_Pressure_In  \\\n",
       "0               68            46  ...                       29.79   \n",
       "1               78            63  ...                       29.75   \n",
       "2               77            67  ...                       29.71   \n",
       "3               61            36  ...                       29.95   \n",
       "4               72            46  ...                       29.78   \n",
       "..             ...           ...  ...                         ...   \n",
       "684             65            46  ...                       29.88   \n",
       "685             65            44  ...                       30.06   \n",
       "686             65            39  ...                       30.02   \n",
       "687             69            53  ...                       30.01   \n",
       "688             77            63  ...                       29.97   \n",
       "\n",
       "     Min_Sea_Level_Pressure_In  Max_Visibility_Miles  Mean_Visibility_Miles  \\\n",
       "0                        29.65                    10                     10   \n",
       "1                        29.54                    10                      9   \n",
       "2                        29.51                    10                      9   \n",
       "3                        29.81                    10                     10   \n",
       "4                        29.73                    10                     10   \n",
       "..                         ...                   ...                    ...   \n",
       "684                      29.77                    10                     10   \n",
       "685                      30.01                    10                     10   \n",
       "686                      29.95                    10                     10   \n",
       "687                      29.97                    10                     10   \n",
       "688                      29.96                    10                     10   \n",
       "\n",
       "     Min_Visibility_Miles  Max_Wind_Speed_MPH  Mean_Wind_Speed_MPH  \\\n",
       "0                       4                  13                    4   \n",
       "1                       3                  10                    5   \n",
       "2                       3                  18                    7   \n",
       "3                      10                   9                    4   \n",
       "4                       6                   8                    3   \n",
       "..                    ...                 ...                  ...   \n",
       "684                    10                  16                    9   \n",
       "685                    10                  12                    9   \n",
       "686                     6                   9                    4   \n",
       "687                    10                  14                    9   \n",
       "688                     8                  14                    8   \n",
       "\n",
       "     Max_Gust_Speed_MPH Precipitation_In  Events  \n",
       "0                    21             0.00    Rain  \n",
       "1                    17             0.11    Rain  \n",
       "2                    25             0.45    Rain  \n",
       "3                     -             0.00    Rain  \n",
       "4                     -             0.14    Rain  \n",
       "..                  ...              ...     ...  \n",
       "684                 NaN             0.00     NaN  \n",
       "685                 NaN             0.00     NaN  \n",
       "686                 NaN             0.00     NaN  \n",
       "687                  18             0.00     NaN  \n",
       "688                 NaN             0.00    Rain  \n",
       "\n",
       "[689 rows x 21 columns]"
      ]
     },
     "execution_count": 13,
     "metadata": {},
     "output_type": "execute_result"
    }
   ],
   "source": [
    "weather"
   ]
  },
  {
   "cell_type": "markdown",
   "metadata": {},
   "source": [
    "## Given all the weather data here, find the average precipitation per month, and the median precipitation. What’s the average number of bikes at a given bike station?"
   ]
  },
  {
   "cell_type": "code",
   "execution_count": 46,
   "metadata": {},
   "outputs": [
    {
     "data": {
      "text/plain": [
       "0.1435483870967742"
      ]
     },
     "execution_count": 46,
     "metadata": {},
     "output_type": "execute_result"
    }
   ],
   "source": [
    "weather['Month']=pd.DatetimeIndex(weather['Date']).month\n",
    "each_Month=weather.groupby('Month')['Precipitation_In']\n",
    "meian_precipitaion=each_Month.mean()\n",
    "meian_precipitaion.iloc[0]"
   ]
  },
  {
   "cell_type": "code",
   "execution_count": 26,
   "metadata": {},
   "outputs": [
    {
     "data": {
      "text/plain": [
       "Month\n",
       "1     0.020\n",
       "2     0.040\n",
       "3     0.025\n",
       "4     0.000\n",
       "5     0.000\n",
       "6     0.000\n",
       "7     0.000\n",
       "8     0.000\n",
       "9     0.000\n",
       "10    0.040\n",
       "11    0.035\n",
       "12    0.100\n",
       "Name: Precipitation_In, dtype: float64"
      ]
     },
     "execution_count": 26,
     "metadata": {},
     "output_type": "execute_result"
    }
   ],
   "source": [
    "each_Month.median()"
   ]
  },
  {
   "cell_type": "markdown",
   "metadata": {},
   "source": [
    "## What’s the average number of bikes at a given bike station?"
   ]
  },
  {
   "cell_type": "code",
   "execution_count": null,
   "metadata": {},
   "outputs": [],
   "source": []
  },
  {
   "cell_type": "code",
   "execution_count": 27,
   "metadata": {},
   "outputs": [
    {
     "data": {
      "text/plain": [
       "17.74074074074074"
      ]
     },
     "execution_count": 27,
     "metadata": {},
     "output_type": "execute_result"
    }
   ],
   "source": [
    "decommission_date = station[station['decommission_date'].isnull()]\n",
    "decommission_date['current_dockcount'].mean()"
   ]
  },
  {
   "cell_type": "markdown",
   "metadata": {},
   "source": [
    "## When a bike station is modified, is it more likely that it’ll lose bikes or gain bikes? How do you know? Come up with 3 more questions that can be answered with this data set."
   ]
  },
  {
   "cell_type": "code",
   "execution_count": 28,
   "metadata": {},
   "outputs": [
    {
     "data": {
      "text/plain": [
       "-64"
      ]
     },
     "execution_count": 28,
     "metadata": {},
     "output_type": "execute_result"
    }
   ],
   "source": [
    "station_is_modified = station[['modification_date','install_dockcount','current_dockcount']].dropna()\n",
    "station_is_modified['current_dockcount'].sum() - station_is_modified['install_dockcount'].sum()"
   ]
  },
  {
   "cell_type": "markdown",
   "metadata": {},
   "source": [
    "##  min Humidity in days ?\n"
   ]
  },
  {
   "cell_type": "code",
   "execution_count": 37,
   "metadata": {},
   "outputs": [
    {
     "data": {
      "text/plain": [
       "40"
      ]
     },
     "execution_count": 37,
     "metadata": {},
     "output_type": "execute_result"
    }
   ],
   "source": [
    "\n",
    "minHumidity=weather['Max_Humidity'].min()\n",
    "minHumidity"
   ]
  },
  {
   "cell_type": "markdown",
   "metadata": {},
   "source": [
    "## total bikes"
   ]
  },
  {
   "cell_type": "code",
   "execution_count": 39,
   "metadata": {},
   "outputs": [
    {
     "data": {
      "text/plain": [
       "234"
      ]
     },
     "execution_count": 39,
     "metadata": {},
     "output_type": "execute_result"
    }
   ],
   "source": [
    "totelBikes=station_is_modified['current_dockcount'].sum()\n",
    "totelBikes"
   ]
  },
  {
   "cell_type": "markdown",
   "metadata": {},
   "source": [
    "## MIN NUMBER OF BIKES "
   ]
  },
  {
   "cell_type": "code",
   "execution_count": 41,
   "metadata": {},
   "outputs": [
    {
     "data": {
      "text/plain": [
       "0"
      ]
     },
     "execution_count": 41,
     "metadata": {},
     "output_type": "execute_result"
    }
   ],
   "source": [
    "minBikes=station['current_dockcount'].min()\n",
    "minBikes"
   ]
  },
  {
   "cell_type": "code",
   "execution_count": 48,
   "metadata": {},
   "outputs": [
    {
     "name": "stdout",
     "output_type": "stream",
     "text": [
      "Success!!!\n"
     ]
    }
   ],
   "source": [
    "def assert_equal(actual,expected):\n",
    "    assert actual == expected, f\"Expected {expected} but got {actual}\"\n",
    "def test():\n",
    "    assert_equal(averge_duration, 1178.2956753399776)\n",
    "    assert_equal(common_age, 33)\n",
    "    assert_equal(minHumidity, 40)\n",
    "    assert_equal(meian_precipitaion.iloc[0], 0.1435483870967742)\n",
    "    assert_equal(minBikes, 0)\n",
    "    assert_equal(totelBikes, 234)\n",
    "\n",
    "\n",
    "    print(\"Success!!!\")\n",
    "\n",
    "test()"
   ]
  },
  {
   "cell_type": "markdown",
   "metadata": {},
   "source": []
  }
 ],
 "metadata": {
  "interpreter": {
   "hash": "54e8428e11991f7c7a7ad3c5db763c302fa01e44e63ec4691acf45d1979e5023"
  },
  "kernelspec": {
   "display_name": "Python 3.9.5 64-bit ('.venv': poetry)",
   "name": "python3"
  },
  "language_info": {
   "codemirror_mode": {
    "name": "ipython",
    "version": 3
   },
   "file_extension": ".py",
   "mimetype": "text/x-python",
   "name": "python",
   "nbconvert_exporter": "python",
   "pygments_lexer": "ipython3",
   "version": "3.9.5"
  },
  "orig_nbformat": 4
 },
 "nbformat": 4,
 "nbformat_minor": 2
}
